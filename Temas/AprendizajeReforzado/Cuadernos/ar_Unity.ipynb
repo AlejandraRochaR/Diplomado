{
 "cells": [
  {
   "cell_type": "markdown",
   "metadata": {},
   "source": [
    "**Curso de Inteligencia Artificial y Aprendizaje Profundo**"
   ]
  },
  {
   "cell_type": "markdown",
   "metadata": {},
   "source": [
    "# Aprendizaje Reforzado"
   ]
  },
  {
   "cell_type": "markdown",
   "metadata": {},
   "source": [
    "## AR para videojuegos en Unity"
   ]
  },
  {
   "cell_type": "markdown",
   "metadata": {},
   "source": [
    "## Autores"
   ]
  },
  {
   "cell_type": "markdown",
   "metadata": {},
   "source": [
    "1. Alvaro Mauricio Montenegro Díaz, ammontenegrod@unal.edu.co\n",
    "2. Daniel Mauricio Montenegro Reyes, dextronomo@gmail.com \n",
    "3. Oleg Jarma, ojarmam@unal.edu.co\n",
    "4. Maria del Pilar Montenegro, pmontenegro88@gmail.com"
   ]
  },
  {
   "cell_type": "markdown",
   "metadata": {},
   "source": [
    "## Introducción"
   ]
  },
  {
   "cell_type": "markdown",
   "metadata": {},
   "source": [
    "el desarrollo de la inteligencia artificial en los juegos de video comienza casi a la par con la misma creación de estos, pero no era una prioridad ya que los juegos eran inicialmente para 2 personas. En lo que aparecían juegos diseñados para un jugador, el interés por la IA incrementó."
   ]
  },
  {
   "cell_type": "markdown",
   "metadata": {},
   "source": [
    "<figure>\n",
    "<right>\n",
    "<img src=\"../Imagenes/Space_invaders.gif\" width=\"400\" height=\"300\" align=\"right\"/>\n",
    "</right>\n",
    "</figure>\n",
    "<figure>\n",
    "<left>\n",
    "<img src=\"../Imagenes/Pong.gif\" width=\"400\" height=\"300\" align=\"left\"/>\n",
    "</left>\n",
    "</figure>"
   ]
  },
  {
   "cell_type": "markdown",
   "metadata": {},
   "source": [
    "en sus inicio y  hasta hace relativamente poco, el termino \"Game AI\" se ha mantenido distante de los que se ha estudiado como verdadera inteligencia artificial, ya que sus métodos solían verse como \"un montón de if else\" sin enfocarse en la toma de decisiones que viene con métodos de Machine Learning. Esto por supuesto ha cambiado a medida que los desarrolladores de videojuegos se comienzan a interesar por la parte academica de la inteligencia artificial"
   ]
  },
  {
   "cell_type": "markdown",
   "metadata": {},
   "source": [
    "### Tipos tradicionales de Game AI"
   ]
  },
  {
   "cell_type": "markdown",
   "metadata": {},
   "source": [
    "#### Arboles de Decisión\n",
    "\n",
    "<figure>\n",
    "<center>\n",
    "<img src=\"../Imagenes/Arboles_de_decision.jpg\" width=\"600\" height=\"500\" align=\"center\"/>\n",
    "</center>\n",
    "</figure>\n",
    "\n",
    "Fuente: [Hands-on Game AI Development](https://www.youtube.com/watch?v=bmP4ppe_-cw)"
   ]
  },
  {
   "cell_type": "markdown",
   "metadata": {},
   "source": [
    "Se piensan en posibles situaciones en las que el agente puede tener contacto y se programan directamente las acciones que hace este mismo"
   ]
  },
  {
   "cell_type": "markdown",
   "metadata": {},
   "source": [
    "- el método más usado y más \"sencillo\" de implementar\n",
    "\n",
    "- Intuitivo\n",
    "\n",
    "- Simple, tal vez demasiado simple\n",
    "\n",
    "- Demasiado trabajo manual"
   ]
  },
  {
   "cell_type": "markdown",
   "metadata": {},
   "source": [
    "#### Máquinas de estado finito"
   ]
  },
  {
   "cell_type": "markdown",
   "metadata": {},
   "source": [
    "<figure>\n",
    "<center>\n",
    "<img src=\"../Imagenes/finite_state_machine.png\" width=\"600\" height=\"500\" align=\"center\"/>\n",
    "</center>\n",
    "</figure>\n",
    "\n",
    "Fuente: [gamedevelopment.tutsplus.com](https://gamedevelopment.tutsplus.com/tutorials/finite-state-machines-theory-and-implementation--gamedev-11867)"
   ]
  },
  {
   "cell_type": "markdown",
   "metadata": {},
   "source": [
    "se programa una serie de estados las cuales el agente puede tener si se cumple una condición. Solo se puede tener un estado de manera activa"
   ]
  },
  {
   "cell_type": "markdown",
   "metadata": {},
   "source": [
    "- Más flexible que arboles de decisión\n",
    "\n",
    "- Menos planeación Manual\n",
    "\n",
    "- Mayor esfuerzo a la hora de programar"
   ]
  },
  {
   "cell_type": "markdown",
   "metadata": {},
   "source": [
    "Estos dos métodos tienen un par de problemas en común\n",
    "\n",
    "**Sensación durante el juego:** En su forma más básica, la implementación de estos algoritmos puede llevar a que la IA se sienta demasiado mecánica, lo cual puede romper la sensación de juego. Esto por supuesto, puede remediarse con algoritmos más complejos, pero esto genera mayor trabajo\n",
    "\n",
    "**Hard Coding:** la cantidad de trabajo que implican estos métodos ya bien sea en la planeación y durante la programación puede causar una enorme cantidad de trabajo para obtener resultados de calidad. Llegando a problemáticas como el crunch"
   ]
  },
  {
   "cell_type": "markdown",
   "metadata": {},
   "source": [
    "### TRAMPA"
   ]
  },
  {
   "cell_type": "markdown",
   "metadata": {},
   "source": [
    "En muchos casos, para dar la ilusión de un agente altamente competente, los desarrolladores activamente hacen trampa. Dando información que no debería poder obtener en un momento, o cambiando sus capacidades de manera espontanea para ajustarse a la situación. Esto, en ciertas situaciones, no es necesariamente malo, pero puede causar molestia o frustraciones"
   ]
  },
  {
   "cell_type": "markdown",
   "metadata": {},
   "source": [
    "<figure>\n",
    "<left>\n",
    "<img src=\"../Imagenes/rubber_banding.gif\" width=\"400\" height=\"300\" align=\"left\"/>\n",
    "</left>\n",
    "</figure>\n",
    "<figure>\n",
    "<right>\n",
    "<img src=\"../Imagenes/cheating_ai.gif\" width=\"400\" height=\"300\" align=\"right\"/>\n",
    "</right>\n",
    "</figure>\n"
   ]
  },
  {
   "cell_type": "markdown",
   "metadata": {},
   "source": [
    "### El aprendizaje Reforzado como alternativa"
   ]
  },
  {
   "cell_type": "markdown",
   "metadata": {},
   "source": [
    "Anteriormente el aprendizaje reforzado se usaba casi con exclusividad para desarrollar agentes capaces de jugar y superar niveles. Fue hasta hace poco que se extiende su uso a una implementación directa, pero de igual forma se hace más como una prueba de concepto, no se han visto muchos casos de productos con un uso verdadero de aprendizaje reforzado. Algunas ventajas y desventajas que se tienen al cambiar a AR en el diseño de juegos inteligentes serían los siguientes\n",
    "\n",
    "- **sensación de juego:** A veces no se necesita un agente perfecto, pero un agente creible. Utilizando AR es posible conseguir enemigos que si se sientan reales en lugar de máquinas.\n",
    "\n",
    "- **Soft Coding:** Con las herramientas de python y tensorflow, es posible desarrollar agentes inteligentes sin necesidad de programarlo en su totalidad, reduciendo el tiempo empleado.\n",
    "\n",
    "- **entrenamiento pasivo** Una gran parte del proceso de entrenamiento va a ser de manera pasiva, permitiendo poder enfocar energías en otras partes del proyecto.\n",
    "\n",
    "- **Barrera de entrada alta:** En el inicio  será un proceso complicado. No solo es necesario aprender sobre la implementación de AR, pero el poder desarrollar un videojuego como producto, por más simple que sea. Por supuesto esta desventaja no es permanente.\n",
    "\n",
    "- **Poca cantidad de información:** Ya que este método y sus herramientas son algo relativamente nuevo, no hay mucha gente haciendo este tipo de proyectos, por lo cual conseguir información específica puede ser complicado"
   ]
  },
  {
   "cell_type": "code",
   "execution_count": null,
   "metadata": {},
   "outputs": [],
   "source": []
  }
 ],
 "metadata": {
  "kernelspec": {
   "display_name": "Python 3",
   "language": "python",
   "name": "python3"
  },
  "language_info": {
   "codemirror_mode": {
    "name": "ipython",
    "version": 3
   },
   "file_extension": ".py",
   "mimetype": "text/x-python",
   "name": "python",
   "nbconvert_exporter": "python",
   "pygments_lexer": "ipython3",
   "version": "3.7.7"
  }
 },
 "nbformat": 4,
 "nbformat_minor": 4
}
